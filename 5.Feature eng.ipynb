{
 "cells": [
  {
   "cell_type": "markdown",
   "id": "31024a1b-1682-48d2-96f5-07c8d972b025",
   "metadata": {},
   "source": [
    "Q1. Pearson correlation coefficient is a measure of the linear relationship between two variables. Suppose\n",
    "you have collected data on the amount of time students spend studying for an exam and their final exam\n",
    "scores. Calculate the Pearson correlation coefficient between these two variables and interpret the result."
   ]
  },
  {
   "cell_type": "markdown",
   "id": "d55b297c-d048-4104-ad8c-0f52d76e046d",
   "metadata": {},
   "source": [
    "Ans - To calculate the Pearson correlation coefficient between two variables, you need to follow these steps:\n",
    "\n",
    "1. Organize your data: You should have a dataset that includes pairs of observations for the two variables you want to analyze. In your case, one variable is the amount of time students spend studying for an exam, and the other variable is their final exam scores.\n",
    "\n",
    "2. Calculate the mean (average) for each variable:\n",
    "   - Calculate the mean of the studying time variable (let's call it X̄).\n",
    "   - Calculate the mean of the final exam scores variable (let's call it Ȳ).\n",
    "\n",
    "3. Calculate the covariance between the two variables:\n",
    "   - Cov(X, Y) = Σ((Xi - X̄)(Yi - Ȳ)) / (n - 1), where Xi is an individual studying time observation, Yi is an individual exam score observation, and n is the number of data points.\n",
    "\n",
    "4. Calculate the standard deviation of each variable:\n",
    "   - Calculate the standard deviation of studying time (let's call it σX).\n",
    "   - Calculate the standard deviation of final exam scores (let's call it σY).\n",
    "\n",
    "5. Calculate the Pearson correlation coefficient (r):\n",
    "   - r = Cov(X, Y) / (σX * σY)\n",
    "\n",
    "Now, let's interpret the result:\n",
    "\n",
    "- If the Pearson correlation coefficient (r) is close to 1, it indicates a strong positive linear relationship between the two variables. In this context, it would mean that as students spend more time studying, their final exam scores tend to be higher.\n",
    "\n",
    "- If r is close to -1, it indicates a strong negative linear relationship, suggesting that as students spend more time studying, their final exam scores tend to be lower.\n",
    "\n",
    "- If r is close to 0, it suggests a weak or no linear relationship between the two variables. In this case, studying time and final exam scores are not significantly correlated.\n",
    "\n",
    "Keep in mind that correlation does not imply causation. Even if you find a correlation, it doesn't mean that studying more directly causes higher exam scores; there could be other factors at play. Additionally, correlation only measures linear relationships; it won't capture nonlinear relationships between variables.\n",
    "\n",
    "Interpreting the result should also consider the context and domain knowledge to draw meaningful conclusions about the relationship between studying time and exam scores."
   ]
  },
  {
   "cell_type": "markdown",
   "id": "5054f59f-4b04-42a8-8bf2-3544de171235",
   "metadata": {},
   "source": [
    "Q2. Spearman's rank correlation is a measure of the monotonic relationship between two variables.\n",
    "Suppose you have collected data on the amount of sleep individuals get each night and their overall job\n",
    "satisfaction level on a scale of 1 to 10. Calculate the Spearman's rank correlation between these two\n",
    "variables and interpret the result."
   ]
  },
  {
   "cell_type": "markdown",
   "id": "83160ff4-e038-471b-82d4-6a3a181e3ccb",
   "metadata": {},
   "source": [
    "Ans - To calculate Spearman's rank correlation coefficient between two variables, you need to follow these steps:\n",
    "\n",
    "1. Organize your data: You should have a dataset that includes pairs of observations for the two variables you want to analyze. In your case, one variable is the amount of sleep individuals get each night, and the other variable is their overall job satisfaction level on a scale of 1 to 10.\n",
    "\n",
    "2. Rank the data: Assign ranks to the observations for each variable separately. Rank the amount of sleep from lowest to highest and rank job satisfaction from lowest to highest.\n",
    "\n",
    "3. Calculate the differences in ranks for each pair of observations: For each pair of observations, calculate the difference in ranks for both variables.\n",
    "\n",
    "4. Square the rank differences: Square each of the rank differences calculated in step 3.\n",
    "\n",
    "5. Calculate the Spearman's rank correlation coefficient (ρ):\n",
    "   - ρ = 1 - [(6 * Σ(D^2)) / (n * (n^2 - 1))]\n",
    "   - Where D^2 is the squared rank difference for each pair of observations, and n is the number of data points.\n",
    "\n",
    "Now, let's interpret the result:\n",
    "\n",
    "- Spearman's rank correlation coefficient, ρ, ranges from -1 to 1, just like Pearson's correlation coefficient.\n",
    "\n",
    "- If ρ is close to 1, it indicates a strong monotonic (either increasing or decreasing) relationship between the two variables. In your context, if ρ is close to 1, it means that as the amount of sleep individuals get each night increases, their job satisfaction tends to increase or vice versa.\n",
    "\n",
    "- If ρ is close to -1, it also indicates a strong monotonic relationship, but in this case, it suggests that as the amount of sleep individuals get each night increases, their job satisfaction tends to decrease, or vice versa.\n",
    "\n",
    "- If ρ is close to 0, it suggests a weak or no monotonic relationship between the two variables.\n",
    "\n",
    "Keep in mind that Spearman's rank correlation measures the strength and direction of the monotonic relationship but does not assume a linear relationship like Pearson's correlation. Monotonic relationships can be more general, capturing non-linear patterns as well.\n",
    "\n",
    "Interpreting the result should consider the context and domain knowledge to draw meaningful conclusions about the relationship between sleep duration and job satisfaction."
   ]
  },
  {
   "cell_type": "markdown",
   "id": "723298b4-7611-4df2-b53e-5f6799909afe",
   "metadata": {},
   "source": [
    "Q3. Suppose you are conducting a study to examine the relationship between the number of hours of\n",
    "exercise per week and body mass index (BMI) in a sample of adults. You collected data on both variables\n",
    "for 50 participants. Calculate the Pearson correlation coefficient and the Spearman's rank correlation\n",
    "between these two variables and compare the results."
   ]
  },
  {
   "cell_type": "markdown",
   "id": "02cdd73a-d28c-4bef-ac42-85150f404ea8",
   "metadata": {},
   "source": [
    "Ans - To calculate both the Pearson correlation coefficient and Spearman's rank correlation coefficient between the number of hours of exercise per week and body mass index (BMI) in your sample of adults, follow these steps:\n",
    "\n",
    "1. Organize your data: You should have a dataset that includes pairs of observations for the number of hours of exercise per week (X) and the corresponding BMI values (Y) for each of the 50 participants.\n",
    "\n",
    "2. Calculate the Pearson correlation coefficient (r):\n",
    "\n",
    "   - Calculate the mean (average) for each variable:\n",
    "     - Calculate the mean of the exercise hours (X̄).\n",
    "     - Calculate the mean of the BMI values (Ȳ).\n",
    "\n",
    "   - Calculate the covariance between the two variables:\n",
    "     - Cov(X, Y) = Σ((Xi - X̄)(Yi - Ȳ)) / (n - 1), where Xi is an individual exercise hours observation, Yi is an individual BMI observation, and n is the number of data points.\n",
    "\n",
    "   - Calculate the standard deviation of each variable:\n",
    "     - Calculate the standard deviation of exercise hours (σX).\n",
    "     - Calculate the standard deviation of BMI values (σY).\n",
    "\n",
    "   - Calculate the Pearson correlation coefficient (r):\n",
    "     - r = Cov(X, Y) / (σX * σY)\n",
    "\n",
    "3. Calculate Spearman's rank correlation coefficient (ρ):\n",
    "\n",
    "   - Rank the data: Assign ranks to the observations for each variable separately. Rank the exercise hours and rank the BMI values.\n",
    "\n",
    "   - Calculate the differences in ranks for each pair of observations: For each pair of observations, calculate the difference in ranks for both variables.\n",
    "\n",
    "   - Square the rank differences: Square each of the rank differences calculated in the previous step.\n",
    "\n",
    "   - Calculate Spearman's rank correlation coefficient (ρ):\n",
    "     - ρ = 1 - [(6 * Σ(D^2)) / (n * (n^2 - 1))]\n",
    "     - Where D^2 is the squared rank difference for each pair of observations, and n is the number of data points.\n",
    "\n",
    "Now, compare the results:\n",
    "\n",
    "- Pearson correlation (r) measures the strength and direction of a linear relationship between the two variables. If r is close to 1, it suggests a strong positive linear relationship, while if it's close to -1, it suggests a strong negative linear relationship.\n",
    "\n",
    "- Spearman's rank correlation (ρ) measures the strength and direction of a monotonic relationship, which is a broader concept than linearity. It captures any consistent increase or decrease in one variable as the other variable increases.\n",
    "\n",
    "If both r and ρ are similar in magnitude and direction, it indicates that the relationship between exercise hours and BMI is both linear and monotonic. If they differ, it suggests that the relationship is not strictly linear but may still be monotonic. Comparing the two coefficients can help you understand the nature of the relationship more comprehensively."
   ]
  },
  {
   "cell_type": "markdown",
   "id": "8c9882cd-b61c-402b-9ec6-f6f44a54d0aa",
   "metadata": {},
   "source": [
    "Q4. A researcher is interested in examining the relationship between the number of hours individuals\n",
    "spend watching television per day and their level of physical activity. The researcher collected data on\n",
    "both variables from a sample of 50 participants. Calculate the Pearson correlation coefficient between\n",
    "these two variables."
   ]
  },
  {
   "cell_type": "markdown",
   "id": "7a4d0185-6fa5-4ee0-88f8-9e174017d9b2",
   "metadata": {},
   "source": [
    "Ans - To calculate the Pearson correlation coefficient (r) between the number of hours individuals spend watching television per day and their level of physical activity, follow these steps:\n",
    "\n",
    "1. Organize your data: You should have a dataset that includes pairs of observations for the number of hours spent watching television per day (X) and the level of physical activity (Y) for each of the 50 participants.\n",
    "\n",
    "2. Calculate the mean (average) for each variable:\n",
    "   - Calculate the mean of the hours spent watching television per day (X̄).\n",
    "   - Calculate the mean of the level of physical activity (Ȳ).\n",
    "\n",
    "3. Calculate the covariance between the two variables:\n",
    "   - Cov(X, Y) = Σ((Xi - X̄)(Yi - Ȳ)) / (n - 1), where Xi is an individual observation of hours spent watching television, Yi is an individual observation of the level of physical activity, and n is the number of data points (50 in this case).\n",
    "\n",
    "4. Calculate the standard deviation of each variable:\n",
    "   - Calculate the standard deviation of hours spent watching television per day (σX).\n",
    "   - Calculate the standard deviation of the level of physical activity (σY).\n",
    "\n",
    "5. Calculate the Pearson correlation coefficient (r):\n",
    "   - r = Cov(X, Y) / (σX * σY)\n",
    "\n",
    "Now, plug in the values you've calculated into the formula to find the Pearson correlation coefficient (r).\n",
    "\n",
    "Interpretation of r:\n",
    "- If the resulting r is close to 1, it indicates a strong positive linear relationship between the number of hours spent watching television and the level of physical activity. In other words, as people spend more time watching TV, their physical activity tends to increase.\n",
    "- If r is close to -1, it indicates a strong negative linear relationship, suggesting that as people spend more time watching TV, their physical activity tends to decrease.\n",
    "- If r is close to 0, it suggests a weak or no linear relationship between the two variables.\n",
    "\n",
    "The interpretation of the result should consider the context and domain knowledge to draw meaningful conclusions about the relationship between TV-watching time and physical activity. Keep in mind that correlation does not imply causation, and other factors may influence the observed relationship."
   ]
  },
  {
   "cell_type": "markdown",
   "id": "f6eac815-a7de-436e-b7e6-ca7561307cb8",
   "metadata": {},
   "source": [
    "Q6. A company is interested in examining the relationship between the number of sales calls made per day\n",
    "and the number of sales made per week. The company collected data on both variables from a sample of\n",
    "30 sales representatives. Calculate the Pearson correlation coefficient between these two variables."
   ]
  },
  {
   "cell_type": "markdown",
   "id": "03f23ec2-ec8c-4d3f-8f88-83b35218115d",
   "metadata": {},
   "source": [
    "Ans - To calculate the Pearson correlation coefficient between the number of sales calls made per day and the number of sales made per week, you'll need the data for both variables from the sample of 30 sales representatives. Let's assume you have the following data:\n",
    "\n",
    "1. Number of sales calls made per day (X): X1, X2, X3, ..., X30.\n",
    "2. Number of sales made per week (Y): Y1, Y2, Y3, ..., Y30.\n",
    "\n",
    "The formula for calculating the Pearson correlation coefficient (r) is:\n",
    "\n",
    "\\[r = \\frac{Σ((X - \\bar{X})(Y - \\bar{Y}))}{\\sqrt{Σ(X - \\bar{X})^2Σ(Y - \\bar{Y})^2}}\\]\n",
    "\n",
    "Where:\n",
    "- Σ represents the sum of the values in the dataset.\n",
    "- X̄ is the mean (average) of the X values.\n",
    "- Ŷ is the mean (average) of the Y values.\n",
    "\n",
    "Follow these steps to calculate the Pearson correlation coefficient:\n",
    "\n",
    "Step 1: Calculate the mean (average) for both X and Y.\n",
    "\\[X̄ = \\frac{ΣX}{n}\\]\n",
    "\\[Ŷ = \\frac{ΣY}{n}\\]\n",
    "\n",
    "Step 2: Calculate the deviations from the mean for both X and Y.\n",
    "\\[X - \\bar{X}\\]\n",
    "\\[Y - \\bar{Y}\\]\n",
    "\n",
    "Step 3: Calculate the product of the deviations from the mean for each pair of data points.\n",
    "\\[(X - \\bar{X})(Y - \\bar{Y})\\]\n",
    "\n",
    "Step 4: Calculate the sums required in the formula.\n",
    "\\[Σ((X - \\bar{X})(Y - \\bar{Y}))\\]\n",
    "\\[Σ(X - \\bar{X})^2\\]\n",
    "\\[Σ(Y - \\bar{Y})^2\\]\n",
    "\n",
    "Step 5: Plug the values from steps 1 through 4 into the Pearson correlation coefficient formula:\n",
    "\n",
    "\\[r = \\frac{Σ((X - \\bar{X})(Y - \\bar{Y}))}{\\sqrt{Σ(X - \\bar{X})^2Σ(Y - \\bar{Y})^2}}\\]\n",
    "\n",
    "Calculate these sums and values for your dataset, and then plug them into the formula to find the Pearson correlation coefficient (r). This coefficient will give you a measure of the linear relationship between the number of sales calls made per day and the number of sales made per week in your sample of 30 sales representatives. The value of r will range from -1 to 1, where -1 indicates a perfect negative linear relationship, 1 indicates a perfect positive linear relationship, and 0 indicates no linear relationship."
   ]
  },
  {
   "cell_type": "code",
   "execution_count": null,
   "id": "f02ce443-0da2-4a5a-8bbd-cbb89ddaa91f",
   "metadata": {},
   "outputs": [],
   "source": []
  },
  {
   "cell_type": "markdown",
   "id": "74cfa87a-0b34-409c-895d-bdc4619b548f",
   "metadata": {},
   "source": [
    "."
   ]
  },
  {
   "cell_type": "code",
   "execution_count": null,
   "id": "455c5f96-861b-4793-ab19-7791fd799563",
   "metadata": {},
   "outputs": [],
   "source": []
  }
 ],
 "metadata": {
  "kernelspec": {
   "display_name": "Python 3 (ipykernel)",
   "language": "python",
   "name": "python3"
  },
  "language_info": {
   "codemirror_mode": {
    "name": "ipython",
    "version": 3
   },
   "file_extension": ".py",
   "mimetype": "text/x-python",
   "name": "python",
   "nbconvert_exporter": "python",
   "pygments_lexer": "ipython3",
   "version": "3.10.8"
  }
 },
 "nbformat": 4,
 "nbformat_minor": 5
}
